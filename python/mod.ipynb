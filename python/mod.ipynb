{
 "cells": [
  {
   "cell_type": "markdown",
   "metadata": {},
   "source": [
    "## Original Dataset is 8MB\n",
    "\n",
    "Way too large. Going to remove a lot of the unecessary information."
   ]
  },
  {
   "cell_type": "code",
   "execution_count": 3,
   "metadata": {},
   "outputs": [
    {
     "data": {
      "text/plain": [
       "(21590, 129)"
      ]
     },
     "execution_count": 3,
     "metadata": {},
     "output_type": "execute_result"
    }
   ],
   "source": [
    "import pandas as pd\n",
    "df = pd.read_csv('data/original-owid-energy-data.csv')\n",
    "df.shape"
   ]
  },
  {
   "cell_type": "markdown",
   "metadata": {},
   "source": [
    "https://github.com/owid/energy-data/blob/master/owid-energy-codebook.csv\n",
    "\n",
    "cols that actually matter:\n",
    "country - displaying name to user\n",
    "year - time axis\n",
    "iso_code - for geojson mapping\n",
    "\n",
    "<!-- renewables_consumption -->\n",
    "solar_consumption\n",
    "wind_consumption\n",
    "hydro_consumption\n",
    "biofuel_consumption\n",
    "\n",
    "<!-- fossil_fuel_consumption -->\n",
    "coal_consumption\n",
    "gas_consumption\n",
    "oil_consumption\n",
    "\n",
    "<!-- other -->\n",
    "nuclear_consumption"
   ]
  },
  {
   "cell_type": "code",
   "execution_count": 8,
   "metadata": {},
   "outputs": [
    {
     "data": {
      "text/plain": [
       "(21590, 11)"
      ]
     },
     "execution_count": 8,
     "metadata": {},
     "output_type": "execute_result"
    }
   ],
   "source": [
    "# extracting cols that matter\n",
    "\n",
    "\"\"\"\n",
    "cols that actually matter:\n",
    "country - displaying name to user\n",
    "year - time axis\n",
    "iso_code - for geojson mapping\n",
    "\n",
    "<!-- renewables_consumption -->\n",
    "solar_consumption\n",
    "wind_consumption\n",
    "hydro_consumption\n",
    "biofuel_consumption\n",
    "\n",
    "<!-- fossil_fuel_consumption -->\n",
    "coal_consumption\n",
    "gas_consumption\n",
    "oil_consumption\n",
    "\n",
    "<!-- other -->\n",
    "nuclear_consumption\n",
    "\"\"\"\n",
    "\n",
    "dfp = df[[\n",
    "    \"country\", \"year\", \"iso_code\", \n",
    "    \"solar_consumption\", \"wind_consumption\", \"hydro_consumption\", \"biofuel_consumption\",\n",
    "    \"coal_consumption\", \"gas_consumption\", \"oil_consumption\",\n",
    "    \"nuclear_consumption\"\n",
    "]]\n",
    "dfp.shape"
   ]
  },
  {
   "cell_type": "code",
   "execution_count": 12,
   "metadata": {},
   "outputs": [
    {
     "data": {
      "text/plain": [
       "(16602, 11)"
      ]
     },
     "execution_count": 12,
     "metadata": {},
     "output_type": "execute_result"
    }
   ],
   "source": [
    "# drop rows with no iso_code\n",
    "dfpd = dfp.dropna(subset=[\"iso_code\"])\n",
    "dfpd.shape"
   ]
  },
  {
   "cell_type": "code",
   "execution_count": 13,
   "metadata": {},
   "outputs": [
    {
     "data": {
      "text/plain": [
       "16602"
      ]
     },
     "execution_count": 13,
     "metadata": {},
     "output_type": "execute_result"
    }
   ],
   "source": [
    "dfpd[\"iso_code\"].value_counts().sum()"
   ]
  },
  {
   "cell_type": "code",
   "execution_count": 14,
   "metadata": {},
   "outputs": [],
   "source": [
    "dfpd.to_csv('data/owid-subset.csv', index=False)"
   ]
  },
  {
   "cell_type": "markdown",
   "metadata": {},
   "source": [
    "## Data set after projection & selection: ~600kb\n",
    "\n",
    "Still massive, but it's much better at least. \n",
    "There's a lot of rows which are basically empty\n",
    "Data is in 1NF, which isn't the best for space"
   ]
  }
 ],
 "metadata": {
  "kernelspec": {
   "display_name": "dsc80_39",
   "language": "python",
   "name": "python3"
  },
  "language_info": {
   "codemirror_mode": {
    "name": "ipython",
    "version": 3
   },
   "file_extension": ".py",
   "mimetype": "text/x-python",
   "name": "python",
   "nbconvert_exporter": "python",
   "pygments_lexer": "ipython3",
   "version": "3.8.16"
  }
 },
 "nbformat": 4,
 "nbformat_minor": 2
}
